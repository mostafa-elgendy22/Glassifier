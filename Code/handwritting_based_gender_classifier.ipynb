{
 "cells": [
  {
   "cell_type": "code",
   "execution_count": 64,
   "metadata": {},
   "outputs": [],
   "source": [
    "import cv2\n",
    "import numpy as np\n",
    "import math\n",
    "import glob\n",
    "import matplotlib.pyplot as plt\n",
    "\n",
    "%matplotlib inline"
   ]
  },
  {
   "cell_type": "markdown",
   "metadata": {},
   "source": [
    "- - -\n",
    "# Utilities"
   ]
  },
  {
   "cell_type": "code",
   "execution_count": 65,
   "metadata": {},
   "outputs": [],
   "source": [
    "# Show the figures / plots inside the notebook\n",
    "def show_images(images, titles=None):\n",
    "       # This function is used to show image(s) with titles by sending an array of images \n",
    "       # and an array of associated titles.\n",
    "       # images[0] will be drawn with the title titles[0] if exists\n",
    "       n_ims = len(images)\n",
    "       if titles is None:\n",
    "              titles = ['(%d)' % i for i in range(1, n_ims + 1)]\n",
    "       fig = plt.figure()\n",
    "       n = 1\n",
    "       for image, title in zip(images, titles):\n",
    "              a = fig.add_subplot(1, n_ims, n)\n",
    "              if image.ndim == 2:\n",
    "                     plt.gray()\n",
    "              plt.imshow(image)\n",
    "              a.set_title(title)\n",
    "              n += 1\n",
    "       fig.set_size_inches(np.array(fig.get_size_inches()) * n_ims)\n",
    "       plt.show()"
   ]
  },
  {
   "cell_type": "markdown",
   "metadata": {},
   "source": [
    "- - -\n",
    "# 1. Data Acquisition"
   ]
  },
  {
   "cell_type": "code",
   "execution_count": 66,
   "metadata": {},
   "outputs": [],
   "source": [
    "x_train = []\n",
    "y_train = []\n",
    "z_train = []"
   ]
  },
  {
   "cell_type": "code",
   "execution_count": 67,
   "metadata": {},
   "outputs": [],
   "source": [
    "for file_name in sorted(glob.glob('../Training Dataset/CMP_23/Males/*.jpg')):\n",
    "    img = cv2.imread(file_name)      # cv2.imread reads images in RGB format\n",
    "    x_train.append(img)\n",
    "    y_train.append(1)\n",
    "    z_train.append(file_name)"
   ]
  },
  {
   "cell_type": "code",
   "execution_count": 68,
   "metadata": {},
   "outputs": [],
   "source": [
    "for file_name in sorted(glob.glob('../Training Dataset/CMP_23/Females/*.jpg')):\n",
    "    img = cv2.imread(file_name)      # cv2.imread reads images in RGB format\n",
    "    x_train.append(img)\n",
    "    y_train.append(0)\n",
    "    z_train.append(file_name)"
   ]
  },
  {
   "cell_type": "code",
   "execution_count": 69,
   "metadata": {},
   "outputs": [
    {
     "name": "stdout",
     "output_type": "stream",
     "text": [
      "Size of the training dataset is: 363 (232 males, 131 females)\n"
     ]
    },
    {
     "name": "stderr",
     "output_type": "stream",
     "text": [
      "C:\\Users\\mosel\\AppData\\Local\\Temp\\ipykernel_9600\\559904856.py:1: VisibleDeprecationWarning: Creating an ndarray from ragged nested sequences (which is a list-or-tuple of lists-or-tuples-or ndarrays with different lengths or shapes) is deprecated. If you meant to do this, you must specify 'dtype=object' when creating the ndarray.\n",
      "  x_train = np.asarray(x_train)\n"
     ]
    }
   ],
   "source": [
    "x_train = np.asarray(x_train)\n",
    "y_train = np.asarray(y_train)\n",
    "z_train = np.asarray(z_train)\n",
    "print(f\"Size of the training dataset is: {x_train.shape[0]} ({np.sum(y_train)} males, {x_train.shape[0] - np.sum(y_train)} females)\")"
   ]
  },
  {
   "cell_type": "markdown",
   "metadata": {},
   "source": [
    "- - -\n",
    "# 2. Data Preprocessing"
   ]
  },
  {
   "cell_type": "code",
   "execution_count": 70,
   "metadata": {},
   "outputs": [],
   "source": [
    "def line_segmentation(img):\n",
    "    gray = cv2.cvtColor(img, cv2.COLOR_BGR2GRAY)\n",
    "    sobel_image = cv2.Sobel(gray)\n",
    "    return sobel_image"
   ]
  },
  {
   "cell_type": "code",
   "execution_count": 71,
   "metadata": {},
   "outputs": [],
   "source": [
    "def preprocess(img):\n",
    "\n",
    "    gray = cv2.cvtColor(img, cv2.COLOR_BGR2GRAY)\n",
    "    \n",
    "    \n",
    "    # Continue preprocessing\n",
    "\n",
    "    return gray"
   ]
  },
  {
   "cell_type": "code",
   "execution_count": 72,
   "metadata": {},
   "outputs": [],
   "source": [
    "for i in range(len(x_train)):\n",
    "    x_train[i] = preprocess(x_train[i])"
   ]
  },
  {
   "cell_type": "markdown",
   "metadata": {},
   "source": [
    "- - -\n",
    "# 3. Feature Extraction"
   ]
  }
 ],
 "metadata": {
  "interpreter": {
   "hash": "47b0946bdb42e5a8db21df9138f17b5cb1a6507cd769a113b48a94aa211b3a2e"
  },
  "kernelspec": {
   "display_name": "Python 3.9.10 64-bit",
   "language": "python",
   "name": "python3"
  },
  "language_info": {
   "codemirror_mode": {
    "name": "ipython",
    "version": 3
   },
   "file_extension": ".py",
   "mimetype": "text/x-python",
   "name": "python",
   "nbconvert_exporter": "python",
   "pygments_lexer": "ipython3",
   "version": "3.9.10"
  },
  "orig_nbformat": 4
 },
 "nbformat": 4,
 "nbformat_minor": 2
}
