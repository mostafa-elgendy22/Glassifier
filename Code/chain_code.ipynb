{
 "cells": [
  {
   "cell_type": "code",
   "execution_count": null,
   "metadata": {},
   "outputs": [],
   "source": [
    "# This Python 3 environment comes with many helpful analytics libraries installed\n",
    "# It is defined by the kaggle/python Docker image: https://github.com/kaggle/docker-python\n",
    "# For example, here's several helpful packages to load\n",
    "\n",
    "import numpy as np # linear algebra\n",
    "# import pandas as pd # data processing, CSV file I/O (e.g. pd.read_csv)\n",
    "\n",
    "from collections import defaultdict\n",
    "import cv2\n",
    "import matplotlib.pyplot as plt\n",
    "import random\n",
    "\n",
    "# Input data files are available in the read-only \"../input/\" directory\n",
    "# For example, running this (by clicking run or pressing Shift+Enter) will list all files under the input directory\n",
    "import os\n",
    "\n",
    "# You can write up to 20GB to the current directory (/kaggle/working/) that gets preserved as output when you create a version using \"Save & Run All\" \n",
    "# You can also write temporary files to /kaggle/temp/, but they won't be saved outside of the current session"
   ]
  },
  {
   "cell_type": "code",
   "execution_count": null,
   "metadata": {},
   "outputs": [],
   "source": [
    "for dirname, _, filenames in os.walk('/kaggle/input'):\n",
    "    for filename in filenames:\n",
    "#         print(os.path.join(dirname, filename))\n",
    "        pass\n",
    "\n",
    "for dirname, _, filenames in os.walk('/kaggle/input/cmp23-handwritten-males-vs-females'):\n",
    "    for filename in filenames:\n",
    "#         print(os.path.join(dirname, filename))\n",
    "        pass"
   ]
  },
  {
   "cell_type": "code",
   "execution_count": null,
   "metadata": {},
   "outputs": [],
   "source": [
    "def get_files_paths(paths):\n",
    "    ret = []\n",
    "    for path in paths:\n",
    "        for dirname, _, filenames in os.walk(path):\n",
    "            for filename in filenames:\n",
    "                ret.append(os.path.join(dirname, filename))\n",
    "    return ret"
   ]
  },
  {
   "cell_type": "code",
   "execution_count": null,
   "metadata": {},
   "outputs": [],
   "source": [
    "# return chaincodes as list of strings\n",
    "def chaincodes_from_contours(contours):\n",
    "    # dx, dy -> direction\n",
    "    dir = [['0', '1', '2'],\n",
    "           ['7', '9', '3'],\n",
    "           ['6', '5', '4']]\n",
    "\n",
    "#     print(contours)\n",
    "    conts = ['']*len(contours)\n",
    "    for idx in range(len(contours)):\n",
    "        for i in range(len(contours[idx])-1):\n",
    "#             print( (contours[idx][i+1]))\n",
    "            dx, dy = (contours[idx][i+1] - contours[idx][i])[0]\n",
    "            dx += 1\n",
    "            dy += 1\n",
    "            conts[idx] += dir[dy][dx]\n",
    "    return conts"
   ]
  },
  {
   "cell_type": "code",
   "execution_count": null,
   "metadata": {},
   "outputs": [],
   "source": [
    "# pdf of chain code from images!\n",
    "# [idx][code]\n",
    "# [idx]['1'] -> pdf of ['1']\n",
    "# [idx]['01'] -> pdf of ['01']\n",
    "# [idx]['345'] -> pdf of['345']\n",
    "def chaincodes_from_images(images, th1 = 100000, th2 = 1000):\n",
    "    chaincodes = [[]] * len(images)\n",
    "    for idx in range(len(images)):\n",
    "        img = cv2.imread(images[idx])\n",
    "        imgh, imgw = len(img), len(img[0])\n",
    "        imgarea = imgh * imgw\n",
    "        \n",
    "        img_gray = cv2.cvtColor(img, cv2.COLOR_BGR2GRAY)        \n",
    "        ret, thresh = cv2.threshold(img_gray, 150, 255, cv2.THRESH_OTSU)\n",
    "\n",
    "#         plt.imshow(img)\n",
    "#         plt.show()\n",
    "        \n",
    "#         plt.imshow(thresh)\n",
    "#         plt.show()\n",
    "        \n",
    "        # detect the contours on the binary image using cv2.CHAIN_APPROX_NONE\n",
    "        contours, _ = cv2.findContours(image=thresh, mode=cv2.RETR_LIST, method=cv2.CHAIN_APPROX_NONE)\n",
    "        contours_filt = list(filter(lambda cnt: imgarea/th1 <= cv2.contourArea(cnt) <= imgarea/th2, contours))\n",
    "        \n",
    "#         img2 = img.copy()\n",
    "#         cv2.drawContours(img2, contours_filt, -1, (0,255,0), 3)\n",
    "#         plt.imshow(img2)\n",
    "#         plt.show()\n",
    "        \n",
    "        chaincodes[idx] = chaincodes_from_contours(contours_filt)\n",
    "    \n",
    "    return chaincodes"
   ]
  },
  {
   "cell_type": "code",
   "execution_count": null,
   "metadata": {},
   "outputs": [],
   "source": [
    "def pdf_from_chaincodes(chaincodes, length):\n",
    "    # print(length)\n",
    "    pdf = [defaultdict(lambda: 0, {}) for _ in range(length+1)]\n",
    "    \n",
    "    # print(1, pdf[0]['6']) \n",
    "    # print(1, pdf[1]['6']) \n",
    "    # print(1, pdf[2]['6']) \n",
    "\n",
    "    # calc freq of all substrings with length\n",
    "    for leng in range(1, length+1):\n",
    "        for cnt in chaincodes:\n",
    "            for i in range(len(cnt) - leng):\n",
    "                pdf[leng][cnt[i: i+leng]] += 1\n",
    "    return pdf"
   ]
  },
  {
   "cell_type": "code",
   "execution_count": null,
   "metadata": {},
   "outputs": [],
   "source": [
    "def probalize(bad_pdf):\n",
    "    try:\n",
    "        a = {key: value/sum(bad_pdf.values()) for key, value in bad_pdf.items()}\n",
    "        return defaultdict(lambda: 0, a)\n",
    "    except:\n",
    "        a = {}\n",
    "        return defaultdict(lambda: 0, a) # empty dict, avoid div by zero"
   ]
  },
  {
   "cell_type": "code",
   "execution_count": null,
   "metadata": {},
   "outputs": [],
   "source": [
    "\n",
    "def gen_labels(labels, LENGTH = 3, curr = ''):\n",
    "    if (len(curr)):\n",
    "        labels.append(curr)\n",
    "\n",
    "    if len(curr) < LENGTH:\n",
    "        for i in range(0, 8):\n",
    "            gen_labels(labels, LENGTH, curr + str(i))\n",
    "    return"
   ]
  },
  {
   "cell_type": "code",
   "execution_count": null,
   "metadata": {},
   "outputs": [],
   "source": [
    "def get_chaincode_feature_from_img(img_path, th1 = 100000, th2 = 1000, MAX_CHAINCODE_LENGTH = 3, debug = False):\n",
    "\n",
    "    chaincodes = chaincodes_from_images(images=[img_path], th1=th1, th2=th2)[0]\n",
    "    pdfs = pdf_from_chaincodes(chaincodes=chaincodes, length=MAX_CHAINCODE_LENGTH)\n",
    "    pdfs_n = [probalize(pdf) for pdf in pdfs]\n",
    "\n",
    "    \n",
    "    # generate all labels to fix order of features\n",
    "    labels = []\n",
    "    gen_labels(labels, MAX_CHAINCODE_LENGTH)\n",
    "    if debug:\n",
    "        count = sum([8**i for i in range(1, MAX_CHAINCODE_LENGTH+1)])\n",
    "        print(f'Generating pdf for {count} chaincodes')\n",
    "        print(labels[0:30], '...')\n",
    "        assert len(labels) == count\n",
    "\n",
    "    # fix order!\n",
    "    pdfs_combined = {label: 0 for label in labels}\n",
    "    if debug:\n",
    "        print(list(pdfs_combined.items())[0:30])\n",
    "    # join all pdfs\n",
    "    for pdf in pdfs_n:\n",
    "        pdfs_combined.update(pdf)\n",
    "\n",
    "    \n",
    "    feature_vec = [pdfs_combined[label] for label in labels]\n",
    "\n",
    "    return feature_vec\n",
    "\n"
   ]
  },
  {
   "cell_type": "code",
   "execution_count": 164,
   "metadata": {},
   "outputs": [],
   "source": [
    "def test_one_image(images = females, idx = 0, MAX_CHAINCODE_LENGTH = 3):\n",
    "    x_axis = []\n",
    "    gen_labels(x_axis, LEN)\n",
    "    y_axis = get_chaincode_feature_from_img(females[0], MAX_CHAINCODE_LENGTH=MAX_CHAINCODE_LENGTH, debug=True)\n",
    "    \n",
    "    print('Features of this image')\n",
    "    plt.rcParams[\"figure.figsize\"] = (17, 6)\n",
    "    plt.plot(x_axis, y_axis, 'b.')"
   ]
  },
  {
   "cell_type": "code",
   "execution_count": 162,
   "metadata": {},
   "outputs": [],
   "source": [
    "def test_all_images(\n",
    "        males_paths=['../Training Dataset/CMP_23/Males'],\n",
    "        females_paths=['../Training Dataset/CMP_23/Females'],\n",
    "        MAX_CHAINCODE_LENGTH=3,\n",
    "        th1=100000,\n",
    "        th2=1000):\n",
    "\n",
    "    # add icdar when ready\n",
    "    males = get_files_paths(males_paths)\n",
    "    females = get_files_paths(females_paths)\n",
    "    males_num = len(males)\n",
    "    females_num = len(females)\n",
    "\n",
    "    print(f'Testing on {males_num} male, & {females_num} female, pictures')\n",
    "\n",
    "    female_vecs = [get_chaincode_feature_from_img(\n",
    "        female, MAX_CHAINCODE_LENGTH=MAX_CHAINCODE_LENGTH) for female in females]\n",
    "    male_vecs = [get_chaincode_feature_from_img(\n",
    "        male, MAX_CHAINCODE_LENGTH=MAX_CHAINCODE_LENGTH) for male in males]\n",
    "\n",
    "    # print(len(female_vecs))\n",
    "    # print(len(female_vecs[0]))\n",
    "\n",
    "    print(f'female vecs first 5 values for first images: {female_vecs[0][:5]}')\n",
    "    print(f'male vecs first 5 vaules for first images]: {male_vecs[0][:5]}')\n",
    "\n",
    "    # sum columns\n",
    "    female_vec = np.sum(female_vecs, axis=0) / females_num\n",
    "    male_vec = np.sum(male_vecs, axis=0) / males_num\n",
    "\n",
    "    print(f'len(female_vec): {len(female_vec)}')\n",
    "    print(f'female vec[:2]: {female_vec[:2]}')\n",
    "    print(f'male vec[:2]: {male_vec[:2]}')\n",
    "\n",
    "    x_axis = []\n",
    "    gen_labels(x_axis, MAX_CHAINCODE_LENGTH)\n",
    "\n",
    "    dat = [(x_axis[idx], female_vec[idx] - male_vec[idx])\n",
    "           for idx in range(len(x_axis))]\n",
    "    print(f'unsorted differnce dat[:5]: {dat[:5]}')\n",
    "\n",
    "    dat = sorted(dat, key=lambda x: abs(x[1]), reverse=True)[:30]\n",
    "\n",
    "    plt.rcParams[\"figure.figsize\"] = (17, 6)\n",
    "    x_axis, y_axis = list(zip(*dat))\n",
    "    plt.plot(x_axis, y_axis, 'b.')\n",
    "    plt.show()\n"
   ]
  },
  {
   "cell_type": "code",
   "execution_count": 160,
   "metadata": {},
   "outputs": [
    {
     "name": "stdout",
     "output_type": "stream",
     "text": [
      "Generating pdf for 584 chaincodes\n",
      "['0', '00', '000', '001', '002', '003', '004', '005', '006', '007', '01', '010', '011', '012', '013', '014', '015', '016', '017', '02', '020', '021', '022', '023', '024', '025', '026', '027', '03', '030'] ...\n",
      "[('0', 0), ('00', 0), ('000', 0), ('001', 0), ('002', 0), ('003', 0), ('004', 0), ('005', 0), ('006', 0), ('007', 0), ('01', 0), ('010', 0), ('011', 0), ('012', 0), ('013', 0), ('014', 0), ('015', 0), ('016', 0), ('017', 0), ('02', 0), ('020', 0), ('021', 0), ('022', 0), ('023', 0), ('024', 0), ('025', 0), ('026', 0), ('027', 0), ('03', 0), ('030', 0)]\n"
     ]
    },
    {
     "data": {
      "image/png": "[encoded data removed]",
      "text/plain": [
       "<Figure size 1224x432 with 1 Axes>"
      ]
     },
     "metadata": {
      "needs_background": "light"
     },
     "output_type": "display_data"
    }
   ],
   "source": [
    "test_one_image()"
   ]
  },
  {
   "cell_type": "code",
   "execution_count": 163,
   "metadata": {},
   "outputs": [
    {
     "name": "stdout",
     "output_type": "stream",
     "text": [
      "Testing on 232 male, & 131 female, pictures\n",
      "female vecs first 5 values for first images: [0.08157253724579391, 0.021602648250670625, 0.008798665823221577, 0.009258726781298523, 0.0004888147679567542]\n",
      "male vecs first 5 vaules for first images]: [0.09821629599979986, 0.02710668849981106, 0.012152117106832078, 0.00938681279650912, 0.00045665575766801127]\n",
      "len(female_vec): 584\n",
      "female vec[:2]: [0.07646571 0.02352135]\n",
      "male vec[:2]: [0.07247354 0.02225146]\n",
      "unsorted differnce dat[:5]: [('0', 0.003992174350121849), ('00', 0.0012698954194037895), ('000', 0.0005708211658316219), ('001', 6.0291857521403355e-05), ('002', 3.4627279588616763e-06)]\n"
     ]
    },
    {
     "data": {
      "image/png": "[encoded data removed]",
      "text/plain": [
       "<Figure size 1224x432 with 1 Axes>"
      ]
     },
     "metadata": {
      "needs_background": "light"
     },
     "output_type": "display_data"
    }
   ],
   "source": [
    "test_all_images()"
   ]
  },
  {
   "cell_type": "code",
   "execution_count": null,
   "metadata": {},
   "outputs": [],
   "source": []
  }
 ],
 "metadata": {
  "interpreter": {
   "hash": "b89b5cfaba6639976dc87ff2fec6d58faec662063367e2c229c520fe71072417"
  },
  "kernelspec": {
   "display_name": "Python 3.10.3 64-bit",
   "language": "python",
   "name": "python3"
  },
  "language_info": {
   "codemirror_mode": {
    "name": "ipython",
    "version": 3
   },
   "file_extension": ".py",
   "mimetype": "text/x-python",
   "name": "python",
   "nbconvert_exporter": "python",
   "pygments_lexer": "ipython3",
   "version": "3.10.3"
  },
  "orig_nbformat": 4
 },
 "nbformat": 4,
 "nbformat_minor": 2
}
