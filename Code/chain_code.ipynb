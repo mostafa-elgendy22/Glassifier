{
 "cells": [
  {
   "cell_type": "code",
   "execution_count": null,
   "metadata": {},
   "outputs": [],
   "source": [
    "# This Python 3 environment comes with many helpful analytics libraries installed\n",
    "# It is defined by the kaggle/python Docker image: https://github.com/kaggle/docker-python\n",
    "# For example, here's several helpful packages to load\n",
    "\n",
    "import numpy as np # linear algebra\n",
    "# import pandas as pd # data processing, CSV file I/O (e.g. pd.read_csv)\n",
    "\n",
    "from collections import defaultdict\n",
    "import cv2\n",
    "import matplotlib.pyplot as plt\n",
    "import random\n",
    "\n",
    "# Input data files are available in the read-only \"../input/\" directory\n",
    "# For example, running this (by clicking run or pressing Shift+Enter) will list all files under the input directory\n",
    "import os\n",
    "\n",
    "# You can write up to 20GB to the current directory (/kaggle/working/) that gets preserved as output when you create a version using \"Save & Run All\" \n",
    "# You can also write temporary files to /kaggle/temp/, but they won't be saved outside of the current session"
   ]
  },
  {
   "cell_type": "code",
   "execution_count": null,
   "metadata": {},
   "outputs": [],
   "source": [
    "for dirname, _, filenames in os.walk('/kaggle/input'):\n",
    "    for filename in filenames:\n",
    "#         print(os.path.join(dirname, filename))\n",
    "        pass\n",
    "\n",
    "for dirname, _, filenames in os.walk('/kaggle/input/cmp23-handwritten-males-vs-females'):\n",
    "    for filename in filenames:\n",
    "#         print(os.path.join(dirname, filename))\n",
    "        pass"
   ]
  },
  {
   "cell_type": "code",
   "execution_count": null,
   "metadata": {},
   "outputs": [],
   "source": [
    "def get_files_paths(paths):\n",
    "    ret = []\n",
    "    for path in paths:\n",
    "        for dirname, _, filenames in os.walk(path):\n",
    "            for filename in filenames:\n",
    "                ret.append(os.path.join(dirname, filename))\n",
    "    return ret"
   ]
  },
  {
   "cell_type": "code",
   "execution_count": null,
   "metadata": {},
   "outputs": [],
   "source": [
    "# add icdar when ready\n",
    "males_paths = ['../Training Dataset/CMP_23/Males']\n",
    "females_paths = ['../Training Dataset/CMP_23/Females']\n",
    "\n",
    "males = get_files_paths(males_paths)\n",
    "females = get_files_paths(females_paths)\n",
    "        \n",
    "males_num = len(males)\n",
    "females_num = len(females)\n",
    "\n",
    "print(males_num, females_num)\n"
   ]
  },
  {
   "cell_type": "code",
   "execution_count": null,
   "metadata": {},
   "outputs": [],
   "source": [
    "# max chain code length to calc pdf on\n",
    "CHAINCODE_LENGTH = 3"
   ]
  },
  {
   "cell_type": "code",
   "execution_count": null,
   "metadata": {},
   "outputs": [],
   "source": [
    "# return chaincodes as list of strings\n",
    "def chaincodes_from_contours(contours):\n",
    "    # dx, dy -> direction\n",
    "    dir = [['0', '1', '2'],\n",
    "           ['7', '9', '3'],\n",
    "           ['6', '5', '4']]\n",
    "\n",
    "#     print(contours)\n",
    "    conts = ['']*len(contours)\n",
    "    for idx in range(len(contours)):\n",
    "        for i in range(len(contours[idx])-1):\n",
    "#             print( (contours[idx][i+1]))\n",
    "            dx, dy = (contours[idx][i+1] - contours[idx][i])[0]\n",
    "            dx += 1\n",
    "            dy += 1\n",
    "            conts[idx] += dir[dy][dx]\n",
    "    return conts"
   ]
  },
  {
   "cell_type": "code",
   "execution_count": null,
   "metadata": {},
   "outputs": [],
   "source": [
    "# pdf of chain code from images!\n",
    "# [idx][code]\n",
    "# [idx]['1'] -> pdf of ['1']\n",
    "# [idx]['01'] -> pdf of ['01']\n",
    "# [idx]['345'] -> pdf of['345']\n",
    "def chaincodes_from_images(images, th1 = 100000, th2 = 1000):\n",
    "    chaincodes = [[]] * len(images)\n",
    "    for idx in range(len(images)):\n",
    "        img = cv2.imread(images[idx])\n",
    "        imgh, imgw = len(img), len(img[0])\n",
    "        imgarea = imgh * imgw\n",
    "        \n",
    "        img_gray = cv2.cvtColor(img, cv2.COLOR_BGR2GRAY)        \n",
    "        ret, thresh = cv2.threshold(img_gray, 150, 255, cv2.THRESH_OTSU)\n",
    "\n",
    "#         plt.imshow(img)\n",
    "#         plt.show()\n",
    "        \n",
    "#         plt.imshow(thresh)\n",
    "#         plt.show()\n",
    "        \n",
    "        # detect the contours on the binary image using cv2.CHAIN_APPROX_NONE\n",
    "        contours, _ = cv2.findContours(image=thresh, mode=cv2.RETR_LIST, method=cv2.CHAIN_APPROX_NONE)\n",
    "        contours_filt = list(filter(lambda cnt: imgarea/th1 <= cv2.contourArea(cnt) <= imgarea/th2, contours))\n",
    "        \n",
    "#         img2 = img.copy()\n",
    "#         cv2.drawContours(img2, contours_filt, -1, (0,255,0), 3)\n",
    "#         plt.imshow(img2)\n",
    "#         plt.show()\n",
    "        \n",
    "        chaincodes[idx] = chaincodes_from_contours(contours_filt)\n",
    "    \n",
    "    return chaincodes"
   ]
  },
  {
   "cell_type": "code",
   "execution_count": null,
   "metadata": {},
   "outputs": [],
   "source": [
    "# idx = 10\n",
    "# th1 = 100000\n",
    "# th2 = 100\n",
    "# img = cv2.imread(females[idx])\n",
    "# plt.imshow(img)\n",
    "# female_chaincode = chaincode(females[idx: idx+1], th1, th2)\n",
    "# print(female_chaincode)\n",
    "\n",
    "female_chaincodes = chaincodes_from_images(females)\n",
    "male_chaincodes = chaincodes_from_images(males)"
   ]
  },
  {
   "cell_type": "code",
   "execution_count": null,
   "metadata": {},
   "outputs": [],
   "source": [
    "# [image_index][contour_index]\n",
    "print(len(female_chaincodes))\n",
    "print(len(female_chaincodes[0][0][0]))\n",
    "print(female_chaincodes[0][0])\n"
   ]
  },
  {
   "cell_type": "code",
   "execution_count": null,
   "metadata": {},
   "outputs": [],
   "source": [
    "def pdf_from_chaincodes(chaincodes):\n",
    "    pdf = [{} for _ in range(CHAINCODE_LENGTH+1)]\n",
    "    for dic in pdf:\n",
    "        dic = defaultdict(lambda: 0, dic)\n",
    "        \n",
    "    # clac freq of all substrings with length\n",
    "    for length in range(1, CHAINCODE_LENGTH+1):\n",
    "        for cnt_idx in range(len(chaincodes)):\n",
    "            for i in range(len(chaincodes[cnt_idx]) - length):\n",
    "                val = chaincodes[cnt_idx][i: i+length]\n",
    "                pdf[length][val] = pdf[length].get(val, 0) + 1\n",
    "    return pdf"
   ]
  },
  {
   "cell_type": "code",
   "execution_count": null,
   "metadata": {},
   "outputs": [],
   "source": [
    "# pdf of chain code from images!\n",
    "# [img_idx][length][code]\n",
    "# [img_idx][1]['1'] -> pdf of ['1']\n",
    "# [img_idx][2]['01'] -> pdf of ['01']\n",
    "# [img_idx][3]['345'] -> pdf of['345']\n",
    "\n",
    "# length: 0 -> empty!\n",
    "\n",
    "# list of dicts\n",
    "female_pdf_chaincodes = [pdf_from_chaincodes(female_chaincodes[idx]) for idx in range(females_num)]\n",
    "male_pdf_chaincodes = [pdf_from_chaincodes(male_chaincodes[idx]) for idx in range(males_num)]\n",
    "\n",
    "# img_idx, cnt_idx, i, le = 0, 0, 0, 3\n",
    "# print(female_pdf_chaincodes[img_idx][cnt_idx][i:i+le])\n"
   ]
  },
  {
   "cell_type": "code",
   "execution_count": null,
   "metadata": {},
   "outputs": [],
   "source": [
    "def probalize(bad_pdf):\n",
    "    try:\n",
    "        a = {key: value/sum(bad_pdf.values()) for key, value in bad_pdf.items()}\n",
    "        return defaultdict(lambda: 0, a)\n",
    "    except:\n",
    "        a = {}\n",
    "        return defaultdict(lambda: 0, a) # empty dict, avoid div by zero"
   ]
  },
  {
   "cell_type": "code",
   "execution_count": null,
   "metadata": {},
   "outputs": [],
   "source": [
    "# make values from 0 to 1\n",
    "# NORMALIZED pdf of chain code from images!\n",
    "# [img_idx][length][code]\n",
    "# [img_idx][1]['1'] -> pdf of ['1']\n",
    "# [img_idx][2]['01'] -> pdf of ['01']\n",
    "# [img_idx][3]['345'] -> pdf of['345']\n",
    "\n",
    "# length: 0 -> empty!\n",
    "\n",
    "print(females_num)\n",
    "print(len(female_pdf_chaincodes))\n",
    "\n",
    "female_pdf_chaincodes_n = [\n",
    "    [probalize(female_pdf_chaincodes[img_idx][length]) for length in range(CHAINCODE_LENGTH + 1)]\n",
    "    for img_idx in range(females_num)]\n",
    "\n",
    "\n",
    "male_pdf_chaincodes_n = [\n",
    "    [probalize(male_pdf_chaincodes[img_idx][length]) for length in range(CHAINCODE_LENGTH + 1)]\n",
    "    for img_idx in range(males_num)]\n",
    "\n"
   ]
  },
  {
   "cell_type": "code",
   "execution_count": null,
   "metadata": {},
   "outputs": [],
   "source": [
    "\n",
    "print(len(female_pdf_chaincodes_n))\n",
    "print(female_pdf_chaincodes[0][1]['5'])\n",
    "print(female_pdf_chaincodes_n[0][1]['5'])"
   ]
  },
  {
   "cell_type": "code",
   "execution_count": null,
   "metadata": {},
   "outputs": [],
   "source": [
    "labels = []\n",
    "def gen_labels(curr = ''):\n",
    "    if (len(curr)):\n",
    "        labels.append(curr)\n",
    "\n",
    "    if len(curr) < CHAINCODE_LENGTH:\n",
    "        for i in range(0, 8):\n",
    "            gen_labels(curr + str(i))\n",
    "    return\n",
    "    \n",
    "labels = []\n",
    "gen_labels()\n",
    "# print(labels)"
   ]
  },
  {
   "cell_type": "code",
   "execution_count": null,
   "metadata": {},
   "outputs": [],
   "source": [
    "values = []\n",
    "\n",
    "female_all_dict = {}\n",
    "male_all_dict = {}\n",
    "for label in labels:\n",
    "    female_all_dict[label] = 0\n",
    "    male_all_dict[label] = 0\n",
    "\n",
    "\n",
    "for pdfs in female_pdf_chaincodes_n:\n",
    "    # [length] -> dict {code: probability}\n",
    "    for pdf in pdfs:\n",
    "        female_all_dict.update(pdf)\n",
    "\n",
    "for pdfs in male_pdf_chaincodes_n:\n",
    "    # [length] -> dict {code: probability}\n",
    "    for pdf in pdfs:\n",
    "        male_all_dict.update(pdf)\n",
    "        "
   ]
  },
  {
   "cell_type": "code",
   "execution_count": null,
   "metadata": {},
   "outputs": [],
   "source": [
    "assert male_all_dict.keys() == female_all_dict.keys()"
   ]
  },
  {
   "cell_type": "code",
   "execution_count": null,
   "metadata": {},
   "outputs": [],
   "source": [
    "\n",
    "# plt.plot(female_all_dict.keys(), female_all_dict.values(), 'b.')\n",
    "# plt.show()    \n",
    "\n",
    "\n",
    "# plt.plot(male_all_dict.keys(), male_all_dict.values(), 'y.')\n",
    "# plt.show()    \n"
   ]
  },
  {
   "cell_type": "code",
   "execution_count": null,
   "metadata": {},
   "outputs": [],
   "source": [
    "diff = {}\n",
    "for label in labels:\n",
    "    diff[label] = abs(female_all_dict[label] - male_all_dict[label])\n",
    "\n",
    "# get top 1000\n",
    "lst_diff = list(diff.items())\n",
    "lst_diff_s = sorted(lst_diff, key=lambda x: x[1], reverse=True)[:25]\n",
    "\n",
    "xs = [it[0] for it in lst_diff_s]\n",
    "ys = [it[1] for it in lst_diff_s]"
   ]
  },
  {
   "cell_type": "code",
   "execution_count": null,
   "metadata": {},
   "outputs": [],
   "source": [
    "plt.rcParams[\"figure.figsize\"] = (17, 6)\n",
    "\n",
    "plt.plot(xs, ys, 'k.')\n",
    "plt.show()"
   ]
  },
  {
   "cell_type": "code",
   "execution_count": null,
   "metadata": {},
   "outputs": [],
   "source": []
  }
 ],
 "metadata": {
  "interpreter": {
   "hash": "b89b5cfaba6639976dc87ff2fec6d58faec662063367e2c229c520fe71072417"
  },
  "kernelspec": {
   "display_name": "Python 3.10.3 64-bit",
   "language": "python",
   "name": "python3"
  },
  "language_info": {
   "codemirror_mode": {
    "name": "ipython",
    "version": 3
   },
   "file_extension": ".py",
   "mimetype": "text/x-python",
   "name": "python",
   "nbconvert_exporter": "python",
   "pygments_lexer": "ipython3",
   "version": "3.10.3"
  },
  "orig_nbformat": 4
 },
 "nbformat": 4,
 "nbformat_minor": 2
}
